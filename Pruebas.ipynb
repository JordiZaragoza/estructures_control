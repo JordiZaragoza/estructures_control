{
 "cells": [
  {
   "cell_type": "code",
   "execution_count": 41,
   "id": "bc70db10",
   "metadata": {},
   "outputs": [
    {
     "name": "stdout",
     "output_type": "stream",
     "text": [
      "La lista es simetrica\n",
      "Tiene 10 elementos\n"
     ]
    }
   ],
   "source": [
    "def func_rev():\n",
    "    if listaNum == listaRev:\n",
    "        print(\"La lista es simetrica\")\n",
    "        print(\"Tiene \" + str(len(listaNum)) + \" elementos\")\n",
    "    else:\n",
    "        print(\"La lista no es simetrica\")\n",
    "\n",
    "\n",
    "listaNum = [1,2,3,4,5,5,4,3,2,1]\n",
    "listaRev = list(reversed(listaNum))\n",
    "\n",
    "func_rev()"
   ]
  },
  {
   "cell_type": "code",
   "execution_count": 42,
   "id": "af6e56d2",
   "metadata": {},
   "outputs": [
    {
     "name": "stdout",
     "output_type": "stream",
     "text": [
      "La lista no es simetrica\n"
     ]
    }
   ],
   "source": [
    "listaNum = [1,2,4,8,5,5,4,3,2,1]\n",
    "listaRev = list(reversed(listaNum))\n",
    "\n",
    "func_rev()"
   ]
  },
  {
   "cell_type": "code",
   "execution_count": 23,
   "id": "0ffc76d1",
   "metadata": {},
   "outputs": [
    {
     "name": "stdout",
     "output_type": "stream",
     "text": [
      "[1, 2, 3, 4, 5, 5, 4, 3, 2, 1]\n",
      "None\n"
     ]
    }
   ],
   "source": [
    "print(lista)\n",
    "print(lista.reverse())"
   ]
  },
  {
   "cell_type": "code",
   "execution_count": 27,
   "id": "a07a7122",
   "metadata": {},
   "outputs": [
    {
     "name": "stdout",
     "output_type": "stream",
     "text": [
      "[2, 1, 4, 2, 3, 2, 1]\n"
     ]
    }
   ],
   "source": [
    "lista1 = [1,2,3,2,4,1,2]\n",
    "lista1.reverse()\n",
    "\n",
    "print(lista1)"
   ]
  },
  {
   "cell_type": "code",
   "execution_count": null,
   "id": "c5cd7389",
   "metadata": {},
   "outputs": [],
   "source": []
  }
 ],
 "metadata": {
  "kernelspec": {
   "display_name": "Python 3",
   "language": "python",
   "name": "python3"
  },
  "language_info": {
   "codemirror_mode": {
    "name": "ipython",
    "version": 3
   },
   "file_extension": ".py",
   "mimetype": "text/x-python",
   "name": "python",
   "nbconvert_exporter": "python",
   "pygments_lexer": "ipython3",
   "version": "3.8.8"
  }
 },
 "nbformat": 4,
 "nbformat_minor": 5
}
