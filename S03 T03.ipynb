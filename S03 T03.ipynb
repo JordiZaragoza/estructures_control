{
 "cells": [
  {
   "cell_type": "markdown",
   "id": "ca99dca6",
   "metadata": {},
   "source": [
    "# Ejercicio 1"
   ]
  },
  {
   "cell_type": "markdown",
   "id": "173112c7",
   "metadata": {},
   "source": [
    "### *El ejercicio consiste en crear un programa que clasifique una variable numerica en funcion de la escala: Suspendido/Aprobado/Notable/Excelente*"
   ]
  },
  {
   "cell_type": "code",
   "execution_count": 5,
   "id": "f9989764",
   "metadata": {},
   "outputs": [
    {
     "name": "stdout",
     "output_type": "stream",
     "text": [
      "Introduce la nota: 3.2\n",
      "Suspendido\n"
     ]
    }
   ],
   "source": [
    "def func_eval(num): # defino una funcion para evaluar la nota\n",
    "    if num == 0 or num <= 4.9:\n",
    "        print(\"Suspendido\")\n",
    "    elif num == 5 or num <= 6.9:\n",
    "        print(\"Aprobado\")\n",
    "    elif num == 7 or num <= 8.9:\n",
    "        print(\"Notable\")\n",
    "    else:\n",
    "        print(\"Excelente\")\n",
    "    \n",
    "num = float(input(\"Introduce la nota: \")) # introduzco el parametro por teclado\n",
    "\n",
    "func_eval(num) # hago llamada a la funcion"
   ]
  },
  {
   "cell_type": "code",
   "execution_count": 6,
   "id": "b78ca128",
   "metadata": {},
   "outputs": [
    {
     "name": "stdout",
     "output_type": "stream",
     "text": [
      "Introduce la nota: 5.8\n",
      "Aprobado\n"
     ]
    }
   ],
   "source": [
    "num = float(input(\"Introduce la nota: \"))\n",
    "\n",
    "func_eval(num)"
   ]
  },
  {
   "cell_type": "code",
   "execution_count": 7,
   "id": "5e113405",
   "metadata": {},
   "outputs": [
    {
     "name": "stdout",
     "output_type": "stream",
     "text": [
      "Introduce la nota: 7.7\n",
      "Notable\n"
     ]
    }
   ],
   "source": [
    "num = float(input(\"Introduce la nota: \"))\n",
    "\n",
    "func_eval(num)"
   ]
  },
  {
   "cell_type": "code",
   "execution_count": 8,
   "id": "9e65711e",
   "metadata": {
    "scrolled": true
   },
   "outputs": [
    {
     "name": "stdout",
     "output_type": "stream",
     "text": [
      "Introduce la nota: 9.4\n",
      "Excelente\n"
     ]
    }
   ],
   "source": [
    "num = float(input(\"Introduce la nota: \"))\n",
    "\n",
    "func_eval(num)"
   ]
  },
  {
   "cell_type": "markdown",
   "id": "944c3324",
   "metadata": {},
   "source": [
    "# Ejercicio 2"
   ]
  },
  {
   "cell_type": "markdown",
   "id": "11761729",
   "metadata": {},
   "source": [
    "### *Utilizando el siguiente tutorial: Programiz: Python input, Output and Import. Crea un programa que te pregunte dos numeros. Tiene que mostrarte un mensaje diciendo si el primero es mas grande, el segundo es mas grande o son iguales*"
   ]
  },
  {
   "cell_type": "code",
   "execution_count": 9,
   "id": "0bc71ca2",
   "metadata": {},
   "outputs": [
    {
     "name": "stdout",
     "output_type": "stream",
     "text": [
      "Introduce el primer numero: 3\n",
      "Introduce el segundo numero: 9\n",
      "El segundo es mayor\n"
     ]
    }
   ],
   "source": [
    "def func_nums(num1,num2):\n",
    "    if num1 > num2:\n",
    "        print(\"El primero es mayor\")\n",
    "    elif num1 < num2:\n",
    "        print(\"El segundo es mayor\")\n",
    "    else:\n",
    "        print(\"Son iguales\")\n",
    "        \n",
    "num1 = float(input(\"Introduce el primer numero: \"))\n",
    "num2 = float(input(\"Introduce el segundo numero: \"))\n",
    "\n",
    "func_nums(num1,num2)"
   ]
  },
  {
   "cell_type": "code",
   "execution_count": 10,
   "id": "1ae60a20",
   "metadata": {},
   "outputs": [
    {
     "name": "stdout",
     "output_type": "stream",
     "text": [
      "Introduce el primer numero: 39\n",
      "Introduce el segundo numero: 12\n",
      "El primero es mayor\n"
     ]
    }
   ],
   "source": [
    "num1 = float(input(\"Introduce el primer numero: \"))\n",
    "num2 = float(input(\"Introduce el segundo numero: \"))\n",
    "\n",
    "func_nums(num1,num2)"
   ]
  },
  {
   "cell_type": "code",
   "execution_count": 11,
   "id": "d9ad9571",
   "metadata": {},
   "outputs": [
    {
     "name": "stdout",
     "output_type": "stream",
     "text": [
      "Introduce el primer numero: 7\n",
      "Introduce el segundo numero: 7\n",
      "Son iguales\n"
     ]
    }
   ],
   "source": [
    "num1 = float(input(\"Introduce el primer numero: \"))\n",
    "num2 = float(input(\"Introduce el segundo numero: \"))\n",
    "\n",
    "func_nums(num1,num2)"
   ]
  },
  {
   "cell_type": "markdown",
   "id": "8e5ab695",
   "metadata": {},
   "source": [
    "# Ejercicio 3"
   ]
  },
  {
   "cell_type": "markdown",
   "id": "d35cab75",
   "metadata": {},
   "source": [
    "### *Crea un programa que pregunte tu nombre, y te pida un numero. Si el numero es 0, tendria que mostrar un mensaje de error. En caso contrario, tendria que mostrar el nombre repetido tantas veces como indique el numero*"
   ]
  },
  {
   "cell_type": "code",
   "execution_count": 12,
   "id": "f0b96e1d",
   "metadata": {},
   "outputs": [
    {
     "name": "stdout",
     "output_type": "stream",
     "text": [
      "Introduce un nombre: Jordi\n",
      "Introduce un numero: 0\n",
      "Error, introduce un numero valido\n"
     ]
    }
   ],
   "source": [
    "def func_nombre(nombre, num):\n",
    "    if num == 0:\n",
    "        print(\"Error, introduce un numero valido\")\n",
    "    else:\n",
    "        nombre = nombre + \" \"\n",
    "        print(nombre * num)\n",
    "    \n",
    "nombre = str(input(\"Introduce un nombre: \"))\n",
    "num = int(input(\"Introduce un numero: \"))\n",
    "\n",
    "func_nombre(nombre, num)"
   ]
  },
  {
   "cell_type": "code",
   "execution_count": 13,
   "id": "7e0a3d31",
   "metadata": {},
   "outputs": [
    {
     "name": "stdout",
     "output_type": "stream",
     "text": [
      "Introduce un nombre: Jordi\n",
      "Introduce un numero: 5\n",
      "Jordi Jordi Jordi Jordi Jordi \n"
     ]
    }
   ],
   "source": [
    "nombre = str(input(\"Introduce un nombre: \"))\n",
    "num = int(input(\"Introduce un numero: \"))\n",
    "\n",
    "func_nombre(nombre, num)"
   ]
  },
  {
   "cell_type": "markdown",
   "id": "e6f74c7f",
   "metadata": {},
   "source": [
    "# Ejercicio 4"
   ]
  },
  {
   "cell_type": "markdown",
   "id": "bd0184ca",
   "metadata": {},
   "source": [
    "### *Crea un programa que dada una lista cualquiera, te diga si es simetrica o no. Si lo es, que te diga cuantos elementos tiene*"
   ]
  },
  {
   "cell_type": "code",
   "execution_count": 14,
   "id": "dab1e08f",
   "metadata": {},
   "outputs": [
    {
     "name": "stdout",
     "output_type": "stream",
     "text": [
      "La lista es simetrica\n",
      "Tiene 10 elementos\n"
     ]
    }
   ],
   "source": [
    "def func_rev():\n",
    "    if listaNum == listaRev:\n",
    "        print(\"La lista es simetrica\")\n",
    "        print(\"Tiene \" + str(len(listaNum)) + \" elementos\")\n",
    "    else:\n",
    "        print(\"La lista no es simetrica\")\n",
    "\n",
    "\n",
    "listaNum = [1,2,3,4,5,5,4,3,2,1]\n",
    "listaRev = list(reversed(listaNum))\n",
    "\n",
    "func_rev()"
   ]
  },
  {
   "cell_type": "code",
   "execution_count": 15,
   "id": "7c5aa120",
   "metadata": {},
   "outputs": [
    {
     "name": "stdout",
     "output_type": "stream",
     "text": [
      "La lista no es simetrica\n"
     ]
    }
   ],
   "source": [
    "listaNum = [1,2,7,4,5,5,4,2,2,1]\n",
    "listaRev = list(reversed(listaNum))\n",
    "\n",
    "func_rev()"
   ]
  },
  {
   "cell_type": "markdown",
   "id": "373563b8",
   "metadata": {},
   "source": [
    "# Ejercicio 5"
   ]
  },
  {
   "cell_type": "markdown",
   "id": "6b4eca41",
   "metadata": {},
   "source": [
    "### Crea un programa que donada una llista, et digui quants números coincideixen amb la seva posició*"
   ]
  },
  {
   "cell_type": "code",
   "execution_count": null,
   "id": "7da336c0",
   "metadata": {},
   "outputs": [],
   "source": []
  }
 ],
 "metadata": {
  "kernelspec": {
   "display_name": "Python 3",
   "language": "python",
   "name": "python3"
  },
  "language_info": {
   "codemirror_mode": {
    "name": "ipython",
    "version": 3
   },
   "file_extension": ".py",
   "mimetype": "text/x-python",
   "name": "python",
   "nbconvert_exporter": "python",
   "pygments_lexer": "ipython3",
   "version": "3.8.8"
  }
 },
 "nbformat": 4,
 "nbformat_minor": 5
}
